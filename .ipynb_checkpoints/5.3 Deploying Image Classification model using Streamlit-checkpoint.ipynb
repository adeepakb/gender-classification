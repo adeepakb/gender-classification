{
 "cells": [
  {
   "cell_type": "markdown",
   "metadata": {
    "id": "kLHWo47Y8dwv"
   },
   "source": [
    "## Table of Contents\n",
    "\n",
    "### 1. Deploying Image Classification model\n",
    "> #### 1.1 Install required libraries\n",
    "> #### 1.2 Setup DL model using streamlit\n",
    "> #### 1.3 Deploy DL model on Colab\n",
    "\n",
    "---"
   ]
  },
  {
   "cell_type": "markdown",
   "metadata": {
    "id": "XkAAEMOn8zHN"
   },
   "source": [
    "### 1.1 Install required libraries"
   ]
  },
  {
   "cell_type": "code",
   "execution_count": 2,
   "metadata": {
    "executionInfo": {
     "elapsed": 7480,
     "status": "ok",
     "timestamp": 1615190748407,
     "user": {
      "displayName": "Faizan Shaikh",
      "photoUrl": "",
      "userId": "11428351120800485612"
     },
     "user_tz": -330
    },
    "id": "5aqczRVACdqe"
   },
   "outputs": [],
   "source": [
    "!pip install -q streamlit\n",
    "!pip install -q pyngrok"
   ]
  },
  {
   "cell_type": "markdown",
   "metadata": {
    "id": "KtXTbcNb85kV"
   },
   "source": [
    "### 1.2 Setup DL model using streamlit"
   ]
  },
  {
   "cell_type": "code",
   "execution_count": 3,
   "metadata": {
    "colab": {
     "base_uri": "https://localhost:8080/"
    },
    "executionInfo": {
     "elapsed": 6788,
     "status": "ok",
     "timestamp": 1615190748408,
     "user": {
      "displayName": "Faizan Shaikh",
      "photoUrl": "",
      "userId": "11428351120800485612"
     },
     "user_tz": -330
    },
    "id": "TQMXX9pwUl8R",
    "outputId": "e187d2c8-97ab-44b8-963b-cd64b7eb15b6"
   },
   "outputs": [
    {
     "name": "stdout",
     "output_type": "stream",
     "text": [
      "--2021-03-08 08:05:47--  https://s3.amazonaws.com/deep-learning-models/image-models/imagenet_class_index.json\n",
      "Resolving s3.amazonaws.com (s3.amazonaws.com)... 52.217.90.190\n",
      "Connecting to s3.amazonaws.com (s3.amazonaws.com)|52.217.90.190|:443... connected.\n",
      "HTTP request sent, awaiting response... 200 OK\n",
      "Length: 35363 (35K) [application/octet-stream]\n",
      "Saving to: ‘imagenet_class_index.json.1’\n",
      "\n",
      "\r",
      "          imagenet_   0%[                    ]       0  --.-KB/s               \r",
      "imagenet_class_inde 100%[===================>]  34.53K  --.-KB/s    in 0.01s   \n",
      "\n",
      "2021-03-08 08:05:47 (2.60 MB/s) - ‘imagenet_class_index.json.1’ saved [35363/35363]\n",
      "\n"
     ]
    }
   ],
   "source": [
    "# download imagenet classes\n",
    "!wget https://s3.amazonaws.com/deep-learning-models/image-models/imagenet_class_index.json"
   ]
  },
  {
   "cell_type": "code",
   "execution_count": 1,
   "metadata": {
    "colab": {
     "base_uri": "https://localhost:8080/"
    },
    "executionInfo": {
     "elapsed": 1297,
     "status": "ok",
     "timestamp": 1615190734815,
     "user": {
      "displayName": "Faizan Shaikh",
      "photoUrl": "",
      "userId": "11428351120800485612"
     },
     "user_tz": -330
    },
    "id": "ghUcHCkXTP-x",
    "outputId": "4fdc3c54-571a-44ef-b61f-c06b80953ab1"
   },
   "outputs": [
    {
     "name": "stdout",
     "output_type": "stream",
     "text": [
      "Overwriting app.py\n"
     ]
    }
   ],
   "source": [
    "%%writefile app.py\n",
    "\n",
    "## create streamlit app\n",
    "\n",
    "# import required libraries and modules\n",
    "import json\n",
    "import numpy as np\n",
    "import matplotlib.pyplot as plt\n",
    "\n",
    "import torch\n",
    "from PIL import Image\n",
    "from torchvision import transforms\n",
    "from torchvision.models import densenet121\n",
    "\n",
    "import streamlit as st\n",
    "\n",
    "# define prediction function\n",
    "def predict(image):\n",
    "    # load DL model\n",
    "    model = densenet121(pretrained=True)\n",
    "\n",
    "    model.eval()\n",
    "\n",
    "    # load classes\n",
    "    with open('imagenet_class_index.json', 'r') as f:\n",
    "        classes = json.load(f)\n",
    "\n",
    "    # preprocess image\n",
    "    preprocess = transforms.Compose([\n",
    "        transforms.Resize(256),\n",
    "        transforms.CenterCrop(224),\n",
    "        transforms.ToTensor(),\n",
    "        transforms.Normalize(mean=[0.485, 0.456, 0.406], std=[0.229, 0.224, 0.225]),\n",
    "    ])\n",
    "    input_tensor = preprocess(input_image)\n",
    "    input_batch = input_tensor.unsqueeze(0) # create a mini-batch as expected by the model\n",
    "\n",
    "    # get prediction\n",
    "    with torch.no_grad():\n",
    "        output = model(input_batch)\n",
    "\n",
    "    pred = torch.nn.functional.softmax(output[0], dim=0).cpu().numpy()\n",
    "\n",
    "    # return confidence and label\n",
    "    confidence = round(max(pred)*100, 2)\n",
    "    label = classes[str(np.argmax(pred))][1]\n",
    "\n",
    "    return confidence, label\n",
    "\n",
    "# define image file uploader\n",
    "image = st.file_uploader(\"Upload image here\")\n",
    "\n",
    "# define button for getting prediction\n",
    "if image is not None and st.button(\"Get prediction\"):\n",
    "    # load image using PIL\n",
    "    input_image = Image.open(image)\n",
    "\n",
    "    # show image\n",
    "    st.image(input_image, use_column_width=True)\n",
    "\n",
    "    # get prediction\n",
    "    confidence, label = predict(input_image)\n",
    "\n",
    "    # print results\n",
    "    \"Model is\", confidence, \"% confident that this image is of a\", label"
   ]
  },
  {
   "cell_type": "markdown",
   "metadata": {
    "id": "5S9s11khrsWx"
   },
   "source": [
    "### 1.3 Deploy DL model on Colab"
   ]
  },
  {
   "cell_type": "code",
   "execution_count": 4,
   "metadata": {
    "executionInfo": {
     "elapsed": 1519,
     "status": "ok",
     "timestamp": 1615190787679,
     "user": {
      "displayName": "Faizan Shaikh",
      "photoUrl": "",
      "userId": "11428351120800485612"
     },
     "user_tz": -330
    },
    "id": "gGggN7mpTXGp"
   },
   "outputs": [],
   "source": [
    "# run streamlit app\n",
    "!streamlit run app.py &>/dev/null&"
   ]
  },
  {
   "cell_type": "code",
   "execution_count": 5,
   "metadata": {
    "colab": {
     "base_uri": "https://localhost:8080/"
    },
    "executionInfo": {
     "elapsed": 1795,
     "status": "ok",
     "timestamp": 1615190788356,
     "user": {
      "displayName": "Faizan Shaikh",
      "photoUrl": "",
      "userId": "11428351120800485612"
     },
     "user_tz": -330
    },
    "id": "uGstXrZbTkJH",
    "outputId": "d81ee3e2-673b-4d28-a5a2-dec4ebe51a29"
   },
   "outputs": [
    {
     "data": {
      "text/plain": [
       "<NgrokTunnel: \"http://f6a3c3f05cfe.ngrok.io\" -> \"http://localhost:8501\">"
      ]
     },
     "execution_count": 5,
     "metadata": {
      "tags": []
     },
     "output_type": "execute_result"
    }
   ],
   "source": [
    "# make streamlit app available publicly\n",
    "from pyngrok import ngrok\n",
    "\n",
    "public_url = ngrok.connect('8501');\n",
    "\n",
    "public_url"
   ]
  },
  {
   "cell_type": "code",
   "execution_count": null,
   "metadata": {
    "id": "bKwEuO3VUBcG"
   },
   "outputs": [],
   "source": []
  }
 ],
 "metadata": {
  "colab": {
   "authorship_tag": "ABX9TyOdgCEO4+TeS66NNv1p4N6y",
   "collapsed_sections": [],
   "name": "5.3 Deploying Image Classification model using Streamlit.ipynb",
   "provenance": []
  },
  "kernelspec": {
   "display_name": "Python 3 (ipykernel)",
   "language": "python",
   "name": "python3"
  },
  "language_info": {
   "codemirror_mode": {
    "name": "ipython",
    "version": 3
   },
   "file_extension": ".py",
   "mimetype": "text/x-python",
   "name": "python",
   "nbconvert_exporter": "python",
   "pygments_lexer": "ipython3",
   "version": "3.11.5"
  }
 },
 "nbformat": 4,
 "nbformat_minor": 1
}
